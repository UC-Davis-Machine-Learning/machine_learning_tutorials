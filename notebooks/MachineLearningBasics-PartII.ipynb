{
 "cells": [
  {
   "cell_type": "markdown",
   "metadata": {},
   "source": [
    "# Machine Learning (Neural Network) Basics\n",
    "## Part II: Neural Networks (Theory)\n",
    "\n",
    "This notebook is meant to give a brief introduction to the ideas behind machine learning and how they work.\n",
    "\n",
    "First we will check to see that all relevant packages have been installed."
   ]
  },
  {
   "cell_type": "code",
   "execution_count": 1,
   "metadata": {},
   "outputs": [
    {
     "name": "stdout",
     "output_type": "stream",
     "text": [
      "Using anaconda environment: ml_tutorials\n",
      "Collecting package metadata (current_repodata.json): done\n",
      "Solving environment: done\n",
      "\n",
      "# All requested packages already installed.\n",
      "\n"
     ]
    }
   ],
   "source": [
    "# install packages if they're not already\n",
    "import sys\n",
    "sys.path.append(\"figs/\")\n",
    "import os\n",
    "print (\"Using anaconda environment: {}\".format(os.environ['CONDA_DEFAULT_ENV']))\n",
    "!conda install --yes --prefix {sys.prefix} -c numpy scipy matplotlib \\\n",
    "    pandas scikit-learn scikit-learn-intelex pytorch"
   ]
  },
  {
   "cell_type": "code",
   "execution_count": 2,
   "metadata": {},
   "outputs": [],
   "source": [
    "# we typically always use numpy, pandas and matplotlib, so import those\n",
    "import numpy as np\n",
    "import pandas as pd\n",
    "import matplotlib.pyplot as plt\n",
    "%matplotlib inline"
   ]
  },
  {
   "cell_type": "code",
   "execution_count": 3,
   "metadata": {},
   "outputs": [
    {
     "name": "stdout",
     "output_type": "stream",
     "text": [
      "Using device: cuda\n",
      "\n",
      "Tesla K20Xm\n",
      "Memory Usage:\n",
      "Allocated: 0.0 GB\n",
      "Cached:    0.0 GB\n"
     ]
    }
   ],
   "source": [
    "# import pytorch\n",
    "import torch\n",
    "# determine device\n",
    "device = torch.device('cuda' if torch.cuda.is_available() else 'cpu')\n",
    "print('Using device:', device)\n",
    "print()\n",
    "\n",
    "#Additional Info when using cuda\n",
    "if device.type == 'cuda':\n",
    "    print(torch.cuda.get_device_name(0))\n",
    "    print('Memory Usage:')\n",
    "    print('Allocated:', round(torch.cuda.memory_allocated(0)/1024**3,1), 'GB')\n",
    "    print('Cached:   ', round(torch.cuda.memory_reserved(0)/1024**3,1), 'GB')"
   ]
  },
  {
   "cell_type": "markdown",
   "metadata": {},
   "source": [
    "## Neural Networks (Theory)\n",
    "\n",
    "Neural networks are essentially fitters, but they are non-linear so they are much more flexible than other methods -- they even allow us the ability of solving non-trivial situations (like the two enclosed blobs example in the previous notebook).  \n",
    "\n",
    "The neural network can take this two dimensional space, and project it into higher dimensions, allowing us to cut through it with hyperplanes that will allow us to simultaneously grab both of those isolated signal regions as we will see later.  \n",
    "\n",
    "Before we show how this works, we will first explore the basic theory behind an artificial neural net.\n",
    "\n",
    "#### Neurons (nodes)\n",
    "--------------------\n",
    "\n",
    "The basic object of any network is the neuron (or node).  The node is just an object that holds a number and is connected to other nodes throughout the network.\n",
    "\n",
    "![image alt](figs/node.png \"Simple network\")\n",
    "\n",
    "In this case we have a network with a single input node and a single output node.  It essentially does a nonlinear coordinate transformation which is given by the function\n",
    "\n",
    "\\begin{equation}\n",
    "x_{\\mathrm{out}} = \\tanh\\left(\\omega\\cdot x_{\\mathrm{in}}\\right)\n",
    "\\end{equation}\n",
    "\n",
    "Where $\\omega$ is a tunable parameter called a 'weight' and the function $\\tanh(\\omega\\cdot x_{\\mathrm{in}})$ is called the  'activation function.'  \n",
    "\n",
    "In general we can pick all sorts of different activation functions, but for very simple binary classification problems the $\\tanh()$ is sufficient.  This is because it is monotonic and bounded from -1.0 to 1.0.  Therefore we want to tune the network to give us outputs of 1.0 when we give it inputs of one class and -1.0 when we give it inputs of the other class.  \n",
    "\n",
    "A network of this type doesn't do much for us, as we can see from the following example."
   ]
  },
  {
   "cell_type": "code",
   "execution_count": 4,
   "metadata": {},
   "outputs": [
    {
     "data": {
      "image/png": "[encoded data removed]",
      "text/plain": [
       "<Figure size 1080x540 with 2 Axes>"
      ]
     },
     "metadata": {
      "needs_background": "light"
     },
     "output_type": "display_data"
    }
   ],
   "source": [
    "\"\"\"\n",
    "Generate signal/background data which consist\n",
    "of two 1D Gaussian distributions with sigma=1.0\n",
    "and a difference in mu=2.0.\n",
    "\"\"\"\n",
    "from ml_helpers import plot_simple_network_results\n",
    "# We'll make some fake signal and background data, \n",
    "# and then run it through our single node network.\n",
    "# We'll see that the network doesn't do much.\n",
    "signal_in = np.random.normal(1.0,1.0,1000)\n",
    "background_in = np.random.normal(-1.0,1.0,1000)\n",
    "# choose a weight \n",
    "omega = 0.5\n",
    "# apply the neural network transformation\n",
    "signal_out = np.tanh(omega * signal_in)\n",
    "background_out = np.tanh(omega * background_in)\n",
    "\n",
    "# Now to plot the before and after\n",
    "plot_simple_network_results(\n",
    "    signal_in,\n",
    "    background_in,\n",
    "    signal_out,\n",
    "    background_out\n",
    ")"
   ]
  },
  {
   "cell_type": "markdown",
   "metadata": {},
   "source": [
    "#### A more complex network\n",
    "---------------------------\n",
    "\n",
    "The network transformation doesn't do much, mostly because we are only doing a coordinate transformation when we map from one variable to another. Let's make the network a little more complex and see what happens.\n",
    "\n",
    "![alt text](node2.png \"More complex network\")\n",
    "\n",
    "Here we have introduced a new feature, the hidden layer of the network.  This hidden layer has two nodes and is connected to both the input and the output nodes through a set of weights.  Labeling the hidden layers by $x_1$ and $x_2$ we can write their values based on the inputs as\n",
    "\n",
    "$$\n",
    "\\begin{align}\n",
    "x_1 = \\tanh(\\omega_1\\cdot x_{\\mathrm{in}})\\\\\n",
    "x_2 = \\tanh(\\omega_2\\cdot x_{\\mathrm{in}})\n",
    "\\end{align}\n",
    "$$\n",
    "\n",
    "The difference from before comes with the output, which now has two inputs.  The way we write the value of the output is the activation function evaluated on the sum of the inputs, thus we have\n",
    "\n",
    "$$\n",
    "\\begin{align}\n",
    "x_{\\mathrm{out}} &= \\tanh\\left(\\sum_{i=1}^N\\omega_{i}\\cdot x_i\\right)\\\\ \n",
    "&= \\tanh\\left(\\omega_{\\mathrm{out},1}\\cdot x_1 + \\omega_{\\mathrm{out},2}\\cdot x_2\\right)\\\\\n",
    "&= \\tanh\\left(\\omega_{\\mathrm{out},1}\\cdot \\tanh(\\omega_1\\cdot x_{\\mathrm{in}}) + \\omega_{\\mathrm{out},2}\\cdot \\tanh(\\omega_2\\cdot x_{\\mathrm{in}})\\right)\n",
    "\\end{align}\n",
    "$$\n",
    "\n",
    "This seems like a strange thing to do, but it allows us to fit a hyperplane to the data by transforming the data space in a non-linear way which stretches the space and even projects it into higher dimensions.  \n",
    "\n",
    "This particular network has four tunable parameters; $\\omega_1, \\omega_2, \\omega_{\\mathrm{out},1}$ and $\\omega_{\\mathrm{out},2}$ which are what we need to adjust based on the particular problem we are looking at.  By adjusting these parameters, we are adjusting the function $x_{\\mathrm{out}} = f(x_{\\mathrm{in}})$ so that it gives us the best guess about which class each of the $x_{\\mathrm{in}}$ belong to.  The output of the function is the 'score' of the network and is analogous to the likelihood score I had mentioned in the beginning.  The neural network then allows us to skip the step of generating a probability distribution of the data which is essentially what the neural network is infering when it 'learns' about the problem.  \n",
    "\n",
    "Before I explain how we get the network to learn a distribution, I'll go over some more of the basic details on structure.\n"
   ]
  },
  {
   "cell_type": "markdown",
   "metadata": {},
   "source": []
  }
 ],
 "metadata": {
  "interpreter": {
   "hash": "71ab2eba449f649deee44456963e2499b51e5c9f656cf62de571b0b472a615d9"
  },
  "kernelspec": {
   "display_name": "Python 3.8.12 64-bit ('ml_tutorials': conda)",
   "language": "python",
   "name": "python3"
  },
  "language_info": {
   "codemirror_mode": {
    "name": "ipython",
    "version": 3
   },
   "file_extension": ".py",
   "mimetype": "text/x-python",
   "name": "python",
   "nbconvert_exporter": "python",
   "pygments_lexer": "ipython3",
   "version": "3.8.12"
  },
  "orig_nbformat": 4
 },
 "nbformat": 4,
 "nbformat_minor": 2
}
